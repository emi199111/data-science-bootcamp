{
  "nbformat": 4,
  "nbformat_minor": 0,
  "metadata": {
    "colab": {
      "provenance": [],
      "authorship_tag": "ABX9TyOcoBCjA6JmXiScjCtOR4KP",
      "include_colab_link": true
    },
    "kernelspec": {
      "name": "python3",
      "display_name": "Python 3"
    },
    "language_info": {
      "name": "python"
    }
  },
  "cells": [
    {
      "cell_type": "markdown",
      "metadata": {
        "id": "view-in-github",
        "colab_type": "text"
      },
      "source": [
        "<a href=\"https://colab.research.google.com/github/emi199111/data-science-bootcamp/blob/main/Algebra_liniowa.ipynb\" target=\"_parent\"><img src=\"https://colab.research.google.com/assets/colab-badge.svg\" alt=\"Open In Colab\"/></a>"
      ]
    },
    {
      "cell_type": "code",
      "execution_count": 3,
      "metadata": {
        "id": "mJYlLqpZahjm"
      },
      "outputs": [],
      "source": [
        "import numpy as np\n"
      ]
    },
    {
      "cell_type": "markdown",
      "source": [
        "Norma wektora w R2"
      ],
      "metadata": {
        "id": "7Ovl4edweFae"
      }
    },
    {
      "cell_type": "code",
      "source": [
        "#tworzymy wektor\n",
        "v1=np.array([-1,4])\n",
        "v1"
      ],
      "metadata": {
        "colab": {
          "base_uri": "https://localhost:8080/"
        },
        "id": "z0IvcyYdapuD",
        "outputId": "036d80df-4f48-45d8-c400-34a2b533322d"
      },
      "execution_count": 5,
      "outputs": [
        {
          "output_type": "execute_result",
          "data": {
            "text/plain": [
              "array([-1,  4])"
            ]
          },
          "metadata": {},
          "execution_count": 5
        }
      ]
    },
    {
      "cell_type": "code",
      "source": [
        "np.linalg.norm(v1)"
      ],
      "metadata": {
        "colab": {
          "base_uri": "https://localhost:8080/"
        },
        "id": "WkfXEnq9eXPK",
        "outputId": "d5498cde-a433-4055-91d5-aadfb89704ac"
      },
      "execution_count": 6,
      "outputs": [
        {
          "output_type": "execute_result",
          "data": {
            "text/plain": [
              "4.123105625617661"
            ]
          },
          "metadata": {},
          "execution_count": 6
        }
      ]
    },
    {
      "cell_type": "markdown",
      "source": [
        "Norma wektora Rn"
      ],
      "metadata": {
        "id": "YmhCHnneeoG5"
      }
    },
    {
      "cell_type": "code",
      "source": [
        "v2= np.array([-10,10,13])\n",
        "v2"
      ],
      "metadata": {
        "colab": {
          "base_uri": "https://localhost:8080/"
        },
        "id": "nwx7mzIyeb9S",
        "outputId": "d92b09b1-e528-4b78-9c0e-2780a58efd2a"
      },
      "execution_count": 7,
      "outputs": [
        {
          "output_type": "execute_result",
          "data": {
            "text/plain": [
              "array([-10,  10,  13])"
            ]
          },
          "metadata": {},
          "execution_count": 7
        }
      ]
    },
    {
      "cell_type": "code",
      "source": [
        "np.linalg.norm(v2)"
      ],
      "metadata": {
        "colab": {
          "base_uri": "https://localhost:8080/"
        },
        "id": "DP0-Scv6ftW_",
        "outputId": "306e7b60-e0b1-426e-986e-1fd2f2099841"
      },
      "execution_count": 8,
      "outputs": [
        {
          "output_type": "execute_result",
          "data": {
            "text/plain": [
              "19.209372712298546"
            ]
          },
          "metadata": {},
          "execution_count": 8
        }
      ]
    },
    {
      "cell_type": "markdown",
      "source": [
        "odleglosc 2 punktow na plaszczyznie"
      ],
      "metadata": {
        "id": "c_TpNapHKkPt"
      }
    },
    {
      "cell_type": "code",
      "source": [
        "p=np.array([3,0])\n",
        "q=np.array([0,4])\n",
        "\n",
        "np.linalg.norm(p-q)"
      ],
      "metadata": {
        "colab": {
          "base_uri": "https://localhost:8080/"
        },
        "id": "kPhv2zVCf0_E",
        "outputId": "f568d10a-e8e9-41ee-cb12-d53aab2749cf"
      },
      "execution_count": 4,
      "outputs": [
        {
          "output_type": "execute_result",
          "data": {
            "text/plain": [
              "5.0"
            ]
          },
          "metadata": {},
          "execution_count": 4
        }
      ]
    },
    {
      "cell_type": "markdown",
      "source": [
        "odleglosc punktow w przestrzeni R3"
      ],
      "metadata": {
        "id": "UEWDMRQuLcrx"
      }
    },
    {
      "cell_type": "code",
      "source": [
        "p=np.array([3,0, 1])\n",
        "q=np.array([0,4,2])\n",
        "\n",
        "np.linalg.norm(p-q)"
      ],
      "metadata": {
        "colab": {
          "base_uri": "https://localhost:8080/"
        },
        "id": "gitly3TILAmN",
        "outputId": "696b702d-e276-4e77-9036-7b76d71d6f0e"
      },
      "execution_count": 5,
      "outputs": [
        {
          "output_type": "execute_result",
          "data": {
            "text/plain": [
              "5.0990195135927845"
            ]
          },
          "metadata": {},
          "execution_count": 5
        }
      ]
    },
    {
      "cell_type": "markdown",
      "source": [
        "Mnozenie macierzy"
      ],
      "metadata": {
        "id": "bpqs_SCoLnez"
      }
    },
    {
      "cell_type": "code",
      "source": [
        "X= np.array([[5,3],[3,9]])\n",
        "Y = np.array([1, -1])\n",
        "Z=X.dot(Y)\n",
        "Z"
      ],
      "metadata": {
        "colab": {
          "base_uri": "https://localhost:8080/"
        },
        "id": "uVCCR8jALi25",
        "outputId": "2acf70af-17a1-4338-e61d-1a1ea8739793"
      },
      "execution_count": 8,
      "outputs": [
        {
          "output_type": "execute_result",
          "data": {
            "text/plain": [
              "array([ 2, -6])"
            ]
          },
          "metadata": {},
          "execution_count": 8
        }
      ]
    },
    {
      "cell_type": "code",
      "source": [],
      "metadata": {
        "id": "PP0Z7ynvOsBo"
      },
      "execution_count": null,
      "outputs": []
    },
    {
      "cell_type": "markdown",
      "source": [
        "aby moc przemnozyc ze soa macierze ro liczba kolumn lewej kolumny misi sie zgadzac z liczba wierszy prawej kolumny"
      ],
      "metadata": {
        "id": "2WkhkOeHSkfg"
      }
    },
    {
      "cell_type": "code",
      "source": [
        "X = np.array([[2, -1, 3], [3,1,0]])\n",
        "Y = np.array([[2,1,-1],\n",
        "              [0,-1,2],\n",
        "              [3,2,0]])\n",
        "print(X, '\\n')\n",
        "print(Y)"
      ],
      "metadata": {
        "colab": {
          "base_uri": "https://localhost:8080/"
        },
        "id": "6eDztIflSwtl",
        "outputId": "46c6ca32-2993-4ed5-8505-24f32c97b732"
      },
      "execution_count": 9,
      "outputs": [
        {
          "output_type": "stream",
          "name": "stdout",
          "text": [
            "[[ 2 -1  3]\n",
            " [ 3  1  0]] \n",
            "\n",
            "[[ 2  1 -1]\n",
            " [ 0 -1  2]\n",
            " [ 3  2  0]]\n"
          ]
        }
      ]
    },
    {
      "cell_type": "code",
      "source": [
        "np.dot(X,Y)"
      ],
      "metadata": {
        "colab": {
          "base_uri": "https://localhost:8080/"
        },
        "id": "5xX17w2gTeWn",
        "outputId": "84e44fd1-6503-49a4-81b4-976b12df1e0e"
      },
      "execution_count": 11,
      "outputs": [
        {
          "output_type": "execute_result",
          "data": {
            "text/plain": [
              "array([[13,  9, -4],\n",
              "       [ 6,  2, -1]])"
            ]
          },
          "metadata": {},
          "execution_count": 11
        }
      ]
    },
    {
      "cell_type": "markdown",
      "source": [
        "WWYZNACZNIK MACIERZY"
      ],
      "metadata": {
        "id": "vtCfnMMpXcf_"
      }
    },
    {
      "cell_type": "code",
      "source": [
        "A = np.array([[2,4], [-1,3]])\n",
        "\n",
        "np.linalg.det(A)"
      ],
      "metadata": {
        "colab": {
          "base_uri": "https://localhost:8080/"
        },
        "id": "O02fD7NGTmBN",
        "outputId": "d8a9f35f-904a-4f2d-e454-a5ed2fd96b66"
      },
      "execution_count": 12,
      "outputs": [
        {
          "output_type": "execute_result",
          "data": {
            "text/plain": [
              "9.999999999999998"
            ]
          },
          "metadata": {},
          "execution_count": 12
        }
      ]
    },
    {
      "cell_type": "markdown",
      "source": [
        "ASLAD MACIERZY - suma eleentow na przekatnej macierzy"
      ],
      "metadata": {
        "id": "W05JPCiMYE6s"
      }
    },
    {
      "cell_type": "code",
      "source": [
        "np.trace(A)"
      ],
      "metadata": {
        "colab": {
          "base_uri": "https://localhost:8080/"
        },
        "id": "FHKeobqPXuiS",
        "outputId": "9c1233d1-de23-41c8-846c-0d3d22970a01"
      },
      "execution_count": 13,
      "outputs": [
        {
          "output_type": "execute_result",
          "data": {
            "text/plain": [
              "5"
            ]
          },
          "metadata": {},
          "execution_count": 13
        }
      ]
    },
    {
      "cell_type": "markdown",
      "source": [
        "MACIERZ JEDNOSTKOWA\n",
        "to macierz kwadratowa to macierz ktora ma jedynki po przekatnej"
      ],
      "metadata": {
        "id": "eSDNrf2ZYWDn"
      }
    },
    {
      "cell_type": "code",
      "source": [
        "Z = np.array([[1,0,0],[0,1,0],[0,0,1]])\n",
        "print(Z)"
      ],
      "metadata": {
        "colab": {
          "base_uri": "https://localhost:8080/"
        },
        "id": "5hWM6W9RYO0R",
        "outputId": "f2d80e03-3b89-4399-de00-51e6e3aff85e"
      },
      "execution_count": 14,
      "outputs": [
        {
          "output_type": "stream",
          "name": "stdout",
          "text": [
            "[[1 0 0]\n",
            " [0 1 0]\n",
            " [0 0 1]]\n"
          ]
        }
      ]
    },
    {
      "cell_type": "code",
      "source": [
        "# MACIERZ JEDNOSTKOWA MOZNA WYGENEROWAC ROWNIEZ ZA POOCA METODY np.eye()\n",
        "\n",
        "np.eye(3, dtype='int')"
      ],
      "metadata": {
        "colab": {
          "base_uri": "https://localhost:8080/"
        },
        "id": "IKWtuk87dIWx",
        "outputId": "d79a9835-b748-4b8f-d007-ab5d0532ea08"
      },
      "execution_count": 15,
      "outputs": [
        {
          "output_type": "execute_result",
          "data": {
            "text/plain": [
              "array([[1, 0, 0],\n",
              "       [0, 1, 0],\n",
              "       [0, 0, 1]])"
            ]
          },
          "metadata": {},
          "execution_count": 15
        }
      ]
    },
    {
      "cell_type": "markdown",
      "source": [],
      "metadata": {
        "id": "A08dn7ahdHwC"
      }
    },
    {
      "cell_type": "markdown",
      "source": [
        "MACIERZ ODWROTNA\n",
        "macierz kwadratowa stopnia n taka ze AB=BA=I(macierz jednostkowa)"
      ],
      "metadata": {
        "id": "CZ3K7MNkc-k0"
      }
    },
    {
      "cell_type": "code",
      "source": [
        "A\n"
      ],
      "metadata": {
        "colab": {
          "base_uri": "https://localhost:8080/"
        },
        "id": "HWuG-_EReKNl",
        "outputId": "27400df1-bf45-4f30-abdf-37065c4a89dc"
      },
      "execution_count": 17,
      "outputs": [
        {
          "output_type": "execute_result",
          "data": {
            "text/plain": [
              "array([[ 2,  4],\n",
              "       [-1,  3]])"
            ]
          },
          "metadata": {},
          "execution_count": 17
        }
      ]
    },
    {
      "cell_type": "code",
      "source": [
        "B = np.linalg.inv(A)\n",
        "B"
      ],
      "metadata": {
        "colab": {
          "base_uri": "https://localhost:8080/"
        },
        "id": "AWPzagQueTTR",
        "outputId": "fa8009fa-0f5f-4a54-cbdf-eac75979dc0a"
      },
      "execution_count": 18,
      "outputs": [
        {
          "output_type": "execute_result",
          "data": {
            "text/plain": [
              "array([[ 0.3, -0.4],\n",
              "       [ 0.1,  0.2]])"
            ]
          },
          "metadata": {},
          "execution_count": 18
        }
      ]
    },
    {
      "cell_type": "code",
      "source": [
        "np.set_printoptions(precision=4, suppress=True)\n",
        "np.dot(A,B)"
      ],
      "metadata": {
        "colab": {
          "base_uri": "https://localhost:8080/"
        },
        "id": "Fu4pa3l8ebS2",
        "outputId": "6d1de653-aa00-4160-fe64-88fa0578f92b"
      },
      "execution_count": 23,
      "outputs": [
        {
          "output_type": "execute_result",
          "data": {
            "text/plain": [
              "array([[1., 0.],\n",
              "       [0., 1.]])"
            ]
          },
          "metadata": {},
          "execution_count": 23
        }
      ]
    },
    {
      "cell_type": "markdown",
      "source": [
        "MACIERZ TRANSPONOWANA\n",
        "-zamiana wierszy na kolumny i kolumny na wiersze"
      ],
      "metadata": {
        "id": "2S2QfP9qd2Qh"
      }
    },
    {
      "cell_type": "code",
      "source": [
        "A.T"
      ],
      "metadata": {
        "colab": {
          "base_uri": "https://localhost:8080/"
        },
        "id": "f23VaqFrc2u6",
        "outputId": "8872f728-85b7-4a8d-bbe0-6e726cabee94"
      },
      "execution_count": 24,
      "outputs": [
        {
          "output_type": "execute_result",
          "data": {
            "text/plain": [
              "array([[ 2, -1],\n",
              "       [ 4,  3]])"
            ]
          },
          "metadata": {},
          "execution_count": 24
        }
      ]
    },
    {
      "cell_type": "code",
      "source": [
        "A = np.array = [[2,4],[1,-1]]\n",
        "B = np.array = [[10], [-1]]\n",
        "\n",
        "print(A, '\\n')\n",
        "print(B)"
      ],
      "metadata": {
        "colab": {
          "base_uri": "https://localhost:8080/"
        },
        "id": "bVjAqUGSfhMW",
        "outputId": "f1374bac-5e7a-4c91-bc76-829f139033af"
      },
      "execution_count": 25,
      "outputs": [
        {
          "output_type": "stream",
          "name": "stdout",
          "text": [
            "[[2, 4], [1, -1]] \n",
            "\n",
            "[[10], [-1]]\n"
          ]
        }
      ]
    },
    {
      "cell_type": "code",
      "source": [
        "#szukamy macierzy odwrotnej do macierzy A\n",
        "\n",
        "A_inv = np.linalg.inv(A)\n",
        "print(A_inv)"
      ],
      "metadata": {
        "colab": {
          "base_uri": "https://localhost:8080/"
        },
        "id": "ZxxWu57lj1nS",
        "outputId": "752bb944-cdf6-4dbd-e42e-b2fb450d86bc"
      },
      "execution_count": 27,
      "outputs": [
        {
          "output_type": "stream",
          "name": "stdout",
          "text": [
            "[[ 0.1667  0.6667]\n",
            " [ 0.1667 -0.3333]]\n"
          ]
        }
      ]
    },
    {
      "cell_type": "code",
      "source": [
        "X = np.dot(A_inv, B)\n",
        "print(X)"
      ],
      "metadata": {
        "colab": {
          "base_uri": "https://localhost:8080/"
        },
        "id": "XEdfM7eckHbz",
        "outputId": "91645bab-3caa-4849-8b4b-920278103cfa"
      },
      "execution_count": 29,
      "outputs": [
        {
          "output_type": "stream",
          "name": "stdout",
          "text": [
            "[[1.]\n",
            " [2.]]\n"
          ]
        }
      ]
    },
    {
      "cell_type": "code",
      "source": [],
      "metadata": {
        "id": "qL4ly5QSkcmL"
      },
      "execution_count": null,
      "outputs": []
    }
  ]
}