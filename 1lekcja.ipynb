{
  "nbformat": 4,
  "nbformat_minor": 0,
  "metadata": {
    "colab": {
      "provenance": [],
      "authorship_tag": "ABX9TyPr116dv3/GLcOQZGgrY0b3",
      "include_colab_link": true
    },
    "kernelspec": {
      "name": "python3",
      "display_name": "Python 3"
    },
    "language_info": {
      "name": "python"
    }
  },
  "cells": [
    {
      "cell_type": "markdown",
      "metadata": {
        "id": "view-in-github",
        "colab_type": "text"
      },
      "source": [
        "<a href=\"https://colab.research.google.com/github/emi199111/data-science-bootcamp/blob/main/1lekcja.ipynb\" target=\"_parent\"><img src=\"https://colab.research.google.com/assets/colab-badge.svg\" alt=\"Open In Colab\"/></a>"
      ]
    },
    {
      "cell_type": "code",
      "execution_count": 2,
      "metadata": {
        "colab": {
          "base_uri": "https://localhost:8080/"
        },
        "id": "tWPNdjdPZpJr",
        "outputId": "e98fb511-8681-48f6-d8be-926a222d7430"
      },
      "outputs": [
        {
          "output_type": "stream",
          "name": "stdout",
          "text": [
            "hello colab\n"
          ]
        }
      ],
      "source": [
        "print('hello colab')"
      ]
    },
    {
      "cell_type": "code",
      "source": [],
      "metadata": {
        "id": "77aZq5nZaDSA"
      },
      "execution_count": null,
      "outputs": []
    }
  ]
}